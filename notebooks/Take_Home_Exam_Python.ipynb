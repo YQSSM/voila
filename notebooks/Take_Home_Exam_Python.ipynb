{
  "nbformat": 4,
  "nbformat_minor": 0,
  "metadata": {
    "colab": {
      "provenance": []
    },
    "kernelspec": {
      "name": "python3",
      "display_name": "Python 3"
    },
    "language_info": {
      "name": "python"
    }
  },
  "cells": [
    {
      "cell_type": "markdown",
      "source": [
        "Introduction: (5 pt)\n",
        "Formulate a research question that allows for explorations and comparisons. For example: How have vaccinations influenced hospitalizations in different European Union (EU) countries? You can divide this in two steps: 1. How vaccinations have influenced hospitalizations in a country (i.e Netherlands or Italy); 2. How does one country compare to the other countries in the EU? (5 pt)\n"
      ],
      "metadata": {
        "id": "KeR2aYIQnjSy"
      }
    },
    {
      "cell_type": "code",
      "execution_count": 1,
      "metadata": {
        "colab": {
          "base_uri": "https://localhost:8080/",
          "height": 110
        },
        "id": "FKNZ7g84nZz2",
        "outputId": "72e2d686-821e-4906-f544-3f83ca164455"
      },
      "outputs": [
        {
          "output_type": "error",
          "ename": "SyntaxError",
          "evalue": "invalid syntax (<ipython-input-1-9dd691a42343>, line 1)",
          "traceback": [
            "\u001b[0;36m  File \u001b[0;32m\"<ipython-input-1-9dd691a42343>\"\u001b[0;36m, line \u001b[0;32m1\u001b[0m\n\u001b[0;31m    import https://raw.githubusercontent.com/NHameleers/dtz2025-datasets/master/CountryHealthFactors.csv as hc\u001b[0m\n\u001b[0m                ^\u001b[0m\n\u001b[0;31mSyntaxError\u001b[0m\u001b[0;31m:\u001b[0m invalid syntax\n"
          ]
        }
      ],
      "source": [
        "##research question: Is a higher BMI associated with a lower life expectancy within the European Union?\n",
        "##split up into two parts: What association is there within countries between BMI and life expectancy? How do countries within the European Union compare to each other?\n",
        "import https://raw.githubusercontent.com/NHameleers/dtz2025-datasets/master/CountryHealthFactors.csv as hc\n",
        "\n"
      ]
    },
    {
      "cell_type": "markdown",
      "source": [
        "Data preparation: (20 pt)\n",
        "Load the dataset using this link for health factors data\n",
        "Links to an external site.\n",
        ". Copy the link and load it as you did in the practicals. (5 pt)\n",
        "Select rows and columns relevant to your research question. (15 pt)\n"
      ],
      "metadata": {
        "id": "87ueGtuJnxMC"
      }
    },
    {
      "cell_type": "code",
      "source": [],
      "metadata": {
        "id": "gURhHJROngav"
      },
      "execution_count": null,
      "outputs": []
    },
    {
      "cell_type": "markdown",
      "source": [
        "Explore and clean the data by: (20 pt)\n",
        "Exploring data using descriptive statistics or visualisations to get to know the dataset and spot possible issues (such as outliers or typos)(10 pt)\n",
        "Identify and report issues with missing data. (5 pt)\n",
        "Resolve issues with missing data and clean other data inconsistencies. Report also if you found no issues and how you verified this. (5 pt)\n"
      ],
      "metadata": {
        "id": "4_GmGZrcn3_E"
      }
    },
    {
      "cell_type": "code",
      "source": [],
      "metadata": {
        "id": "JRZcjbshngzT"
      },
      "execution_count": null,
      "outputs": []
    },
    {
      "cell_type": "markdown",
      "source": [
        "Describe and visualise: (50 pt)\n",
        "Provide a description of the population for the reader (e.g. countries or continents) relevant to your question using a table with descriptive statistics (i.e. means, medians, standard deviations) and where possible visualisation. (15pt)\n",
        "Make the report interactive: Create at least one interactive visualisation using input from the user. (20pt)\n",
        "Turn your interactive report into an application using GitHub, Voila and Binder.** (15pt)\n"
      ],
      "metadata": {
        "id": "05aQsqf4n8V9"
      }
    },
    {
      "cell_type": "code",
      "source": [],
      "metadata": {
        "id": "DGbtm5obnhOV"
      },
      "execution_count": null,
      "outputs": []
    },
    {
      "cell_type": "markdown",
      "source": [
        "Conclusion: (5 pt)\n",
        "Summarise the work and the main findings related to the initial research question. (5 pt)\n"
      ],
      "metadata": {
        "id": "B5CtRk1joBJq"
      }
    },
    {
      "cell_type": "code",
      "source": [],
      "metadata": {
        "id": "mrF60FosniKD"
      },
      "execution_count": null,
      "outputs": []
    }
  ]
}